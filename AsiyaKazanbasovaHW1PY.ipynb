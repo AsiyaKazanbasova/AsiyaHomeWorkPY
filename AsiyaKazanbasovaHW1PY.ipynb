{
  "nbformat": 4,
  "nbformat_minor": 0,
  "metadata": {
    "colab": {
      "provenance": [],
      "authorship_tag": "ABX9TyN6nmeHhwYTGxi81LujbRiS",
      "include_colab_link": true
    },
    "kernelspec": {
      "name": "python3",
      "display_name": "Python 3"
    },
    "language_info": {
      "name": "python"
    }
  },
  "cells": [
    {
      "cell_type": "markdown",
      "metadata": {
        "id": "view-in-github",
        "colab_type": "text"
      },
      "source": [
        "<a href=\"https://colab.research.google.com/github/AsiyaKazanbasova/AsiyaHomeWorkPY/blob/main/AsiyaKazanbasovaHW1PY.ipynb\" target=\"_parent\"><img src=\"https://colab.research.google.com/assets/colab-badge.svg\" alt=\"Open In Colab\"/></a>"
      ]
    },
    {
      "cell_type": "markdown",
      "source": [
        "##**Казанбасова Асия**\n",
        "\n",
        "##**_Домашняя работа №1_** по Уроку 1. Оформление ноутбука и закрепление функций и генераторов"
      ],
      "metadata": {
        "id": "S9FfQ1qcNCmq"
      }
    },
    {
      "cell_type": "markdown",
      "source": [
        "##**Задание 2**\n",
        "###На складе лежат разные фрукты в разном количестве. Нужно написать функцию, которая на вход принимает любое количество названий фруктов и их количество, а возвращает общее количество фруктов на складе."
      ],
      "metadata": {
        "id": "Fd79tTVLNzic"
      }
    },
    {
      "cell_type": "code",
      "execution_count": 13,
      "metadata": {
        "id": "1L5F2Wu5fwAA"
      },
      "outputs": [],
      "source": [
        "def total_fruits(**kwargs):\n",
        "  return print(f'Общее количество фрутов на складе: {sum(kwargs.values())}')"
      ]
    },
    {
      "cell_type": "code",
      "source": [
        "total_fruits(banana=5, mango=7, apple=8)"
      ],
      "metadata": {
        "colab": {
          "base_uri": "https://localhost:8080/"
        },
        "id": "BLKCEzYMcxgh",
        "outputId": "3fea75ea-7ebf-4c65-b5f6-8891a5c6f4b7"
      },
      "execution_count": 14,
      "outputs": [
        {
          "output_type": "stream",
          "name": "stdout",
          "text": [
            "Общее количество фрутов на складе: 20\n"
          ]
        }
      ]
    },
    {
      "cell_type": "markdown",
      "source": [
        "##**Задание 3**\n",
        "Дан список с затратами на рекламу. Но в данных есть ошибки, некоторые затраты имеют отрицательную величину. Удалите такие значения из списка и посчитайте суммарные затраты\n",
        "\n",
        "[100, 125, -90, 345, 655, -1, 0, 200]\n",
        "\n",
        "Используйте list comprehensions"
      ],
      "metadata": {
        "id": "BVM45d5rdMDC"
      }
    },
    {
      "cell_type": "code",
      "source": [
        "ad_spend_list = [100, 125, -90, 345, 655, -1, 0, 200]\n",
        "print(sum(a for a in ad_spend_list if a > 0))"
      ],
      "metadata": {
        "colab": {
          "base_uri": "https://localhost:8080/"
        },
        "id": "HPwIb-NlduDJ",
        "outputId": "d625b45c-7b92-4377-8d6b-ead970535ebf"
      },
      "execution_count": 15,
      "outputs": [
        {
          "output_type": "stream",
          "name": "stdout",
          "text": [
            "1425\n"
          ]
        }
      ]
    },
    {
      "cell_type": "markdown",
      "source": [
        "##**Задание 4**\n",
        "Даны два списка.\n",
        "\n",
        "Дата покупки\n",
        "['2021-09-14', '2021-12-15', '2021-09-08', '2021-12-05', '2021-10-09', '2021-09-30', '2021-12-22', '2021-11-29', '2021-12-24', '2021-11-26', '2021-10-27', '2021-12-18', '2021-11-09', '2021-11-23', '2021-09-27', '2021-10-02', '2021-12-27', '2021-09-20', '2021-12-13', '2021-11-01', '2021-11-09', '2021-12-06', '2021-12-08', '2021-10-09', '2021-10-31', '2021-09-30', '2021-11-09', '2021-12-13', '2021-10-26', '2021-12-09']\n",
        "\n",
        "Суммы покупок по датам\n",
        "[1270, 8413, 9028, 3703, 5739, 4095, 295, 4944, 5723, 3701, 4471, 651, 7037, 4274, 6275, 4988, 6930, 2971, 6592, 2004, 2822, 519, 3406, 2732, 5015, 2008, 316, 6333, 5700, 2887]\n",
        "###**4.1** Найдите, какая выручка у компании в ноябре\n",
        "Используйте list comprehensions"
      ],
      "metadata": {
        "id": "SykavWcSgYBz"
      }
    },
    {
      "cell_type": "code",
      "source": [
        "date_list = ['2021-09-14', '2021-12-15', '2021-09-08', '2021-12-05', '2021-10-09', '2021-09-30', '2021-12-22', '2021-11-29',\n",
        "        '2021-12-24', '2021-11-26', '2021-10-27', '2021-12-18', '2021-11-09', '2021-11-23', '2021-09-27', '2021-10-02',\n",
        "        '2021-12-27', '2021-09-20', '2021-12-13', '2021-11-01', '2021-11-09', '2021-12-06', '2021-12-08', '2021-10-09',\n",
        "        '2021-10-31', '2021-09-30', '2021-11-09', '2021-12-13', '2021-10-26', '2021-12-09']\n",
        "purchase_list = [1270, 8413, 9028, 3703, 5739, 4095, 295, 4944, 5723, 3701, 4471, 651, 7037, 4274, 6275, 4988, 6930, 2971, 6592,\n",
        "         2004, 2822, 519, 3406, 2732, 5015, 2008, 316, 6333, 5700, 2887]\n",
        " \n",
        "print(sum([purchase for date, purchase in zip(date_list, purchase_list) if date[5:7] == \"11\"]))"
      ],
      "metadata": {
        "colab": {
          "base_uri": "https://localhost:8080/"
        },
        "id": "URJC7GEvjiRz",
        "outputId": "a953b6cf-1090-4de8-f8c2-5b313dec86ec"
      },
      "execution_count": 17,
      "outputs": [
        {
          "output_type": "stream",
          "name": "stdout",
          "text": [
            "25098\n"
          ]
        }
      ]
    },
    {
      "cell_type": "markdown",
      "source": [
        "##**4.2** Найдите выручку компании в зависимости от месяца\n",
        "Для этого напишите функцию, которая на вход принимает список с датами и список с выручкой, а на выходе словарь, где ключи - это месяцы, а значения - это выручка. Используйте аннотирование типов."
      ],
      "metadata": {
        "id": "4t6a3XE7imAp"
      }
    },
    {
      "cell_type": "code",
      "source": [
        "def sum_in_month(date_list: list, purchase_list: list) -> dict:\n",
        "    res = {}\n",
        "    for date, purchase in zip(date_list, purchase_list):\n",
        "        if date[5:7] in res.keys():\n",
        "            res[date[5:7]] = res[date[5:7]] + purchase\n",
        "        else:\n",
        "            res[date[5:7]] = purchase\n",
        "    return res\n",
        " \n",
        "print(sum_in_month(date_list, purchase_list))"
      ],
      "metadata": {
        "colab": {
          "base_uri": "https://localhost:8080/"
        },
        "id": "0T58qW_WjjQO",
        "outputId": "857e83a1-a420-44ca-c3c7-668b42a7a45c"
      },
      "execution_count": 18,
      "outputs": [
        {
          "output_type": "stream",
          "name": "stdout",
          "text": [
            "{'09': 25647, '12': 45452, '10': 28645, '11': 25098}\n"
          ]
        }
      ]
    }
  ]
}